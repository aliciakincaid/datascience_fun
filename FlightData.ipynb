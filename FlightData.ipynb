{
 "cells": [
  {
   "cell_type": "markdown",
   "metadata": {},
   "source": [
    "#### Data Science Competition 2020\n",
    "Haley Ferguson, Alicia Kincaid, Kelly Krenek"
   ]
  },
  {
   "cell_type": "markdown",
   "metadata": {},
   "source": [
    "#### Challenge: \n",
    "Build models for predicting expected flight delays by airline and flight for the **third quarter of 2019**."
   ]
  },
  {
   "cell_type": "code",
   "execution_count": 4,
   "metadata": {},
   "outputs": [],
   "source": [
    "import pandas as pd\n",
    "import matplotlib.pyplot as plt\n",
    "import numpy as np\n",
    "from zipfile import ZipFile"
   ]
  },
  {
   "cell_type": "code",
   "execution_count": 22,
   "metadata": {},
   "outputs": [],
   "source": [
    "#import all csv files\n",
    "air_fares= pd.read_csv(\"AirFares.csv\")\n",
    "airports = pd.read_csv(\"Airports.csv\")\n",
    "routes = pd.read_csv(\"Routes.csv\")\n",
    "flight_description = pd.read_excel(\"FlightDataDescription(1).xlsx\")\n",
    "\n",
    "#unzip the flight delays file\n",
    "with ZipFile(\"FlightDelays.zip\",\"r\") as zip_ref:\n",
    "    #makes a folder in your directory called FlightDelays\n",
    "    zip_ref.extractall(\"FlightDelays\") "
   ]
  },
  {
   "cell_type": "code",
   "execution_count": 23,
   "metadata": {},
   "outputs": [
    {
     "name": "stderr",
     "output_type": "stream",
     "text": [
      "/Users/haleyferguson/anaconda3/lib/python3.7/site-packages/IPython/core/interactiveshell.py:3057: DtypeWarning: Columns (32) have mixed types. Specify dtype option on import or set low_memory=False.\n",
      "  interactivity=interactivity, compiler=compiler, result=result)\n"
     ]
    }
   ],
   "source": [
    "#read in the flight delays file to a dataframe\n",
    "flight_delays = pd.read_csv(\"FlightDelays/FlightDelays.csv\")\n",
    "#this will take a good amount of time because the file is huge"
   ]
  },
  {
   "cell_type": "code",
   "execution_count": 30,
   "metadata": {},
   "outputs": [
    {
     "data": {
      "text/html": [
       "<div>\n",
       "<style scoped>\n",
       "    .dataframe tbody tr th:only-of-type {\n",
       "        vertical-align: middle;\n",
       "    }\n",
       "\n",
       "    .dataframe tbody tr th {\n",
       "        vertical-align: top;\n",
       "    }\n",
       "\n",
       "    .dataframe thead th {\n",
       "        text-align: right;\n",
       "    }\n",
       "</style>\n",
       "<table border=\"1\" class=\"dataframe\">\n",
       "  <thead>\n",
       "    <tr style=\"text-align: right;\">\n",
       "      <th></th>\n",
       "      <th>YEAR</th>\n",
       "      <th>QUARTER</th>\n",
       "      <th>MONTH</th>\n",
       "      <th>DAY_OF_MONTH</th>\n",
       "      <th>DAY_OF_WEEK</th>\n",
       "      <th>FL_DATE</th>\n",
       "      <th>CARRIER</th>\n",
       "      <th>FL_NUM</th>\n",
       "      <th>Route</th>\n",
       "      <th>ORIGIN</th>\n",
       "      <th>...</th>\n",
       "      <th>NAS_DELAY</th>\n",
       "      <th>SECURITY_DELAY</th>\n",
       "      <th>LATE_AIRCRAFT_DELAY</th>\n",
       "      <th>PASSENGERS</th>\n",
       "      <th>EMPFULL</th>\n",
       "      <th>EMPPART</th>\n",
       "      <th>EMPTOTAL</th>\n",
       "      <th>EMPFTE</th>\n",
       "      <th>NET_INCOME</th>\n",
       "      <th>OP_REVENUES</th>\n",
       "    </tr>\n",
       "  </thead>\n",
       "  <tbody>\n",
       "    <tr>\n",
       "      <th>10915490</th>\n",
       "      <td>2019</td>\n",
       "      <td>2</td>\n",
       "      <td>6</td>\n",
       "      <td>27</td>\n",
       "      <td>4</td>\n",
       "      <td>2019-06-27</td>\n",
       "      <td>YX</td>\n",
       "      <td>4478</td>\n",
       "      <td>6671</td>\n",
       "      <td>XNA</td>\n",
       "      <td>...</td>\n",
       "      <td>NaN</td>\n",
       "      <td>NaN</td>\n",
       "      <td>NaN</td>\n",
       "      <td>3026.0</td>\n",
       "      <td>5831.0</td>\n",
       "      <td>311.0</td>\n",
       "      <td>6142.0</td>\n",
       "      <td>5987.0</td>\n",
       "      <td>21462.49</td>\n",
       "      <td>332085.52</td>\n",
       "    </tr>\n",
       "    <tr>\n",
       "      <th>10915491</th>\n",
       "      <td>2019</td>\n",
       "      <td>2</td>\n",
       "      <td>6</td>\n",
       "      <td>28</td>\n",
       "      <td>5</td>\n",
       "      <td>2019-06-28</td>\n",
       "      <td>YX</td>\n",
       "      <td>4506</td>\n",
       "      <td>6671</td>\n",
       "      <td>XNA</td>\n",
       "      <td>...</td>\n",
       "      <td>NaN</td>\n",
       "      <td>NaN</td>\n",
       "      <td>NaN</td>\n",
       "      <td>3026.0</td>\n",
       "      <td>5831.0</td>\n",
       "      <td>311.0</td>\n",
       "      <td>6142.0</td>\n",
       "      <td>5987.0</td>\n",
       "      <td>21462.49</td>\n",
       "      <td>332085.52</td>\n",
       "    </tr>\n",
       "    <tr>\n",
       "      <th>10915492</th>\n",
       "      <td>2019</td>\n",
       "      <td>2</td>\n",
       "      <td>6</td>\n",
       "      <td>28</td>\n",
       "      <td>5</td>\n",
       "      <td>2019-06-28</td>\n",
       "      <td>YX</td>\n",
       "      <td>4478</td>\n",
       "      <td>6671</td>\n",
       "      <td>XNA</td>\n",
       "      <td>...</td>\n",
       "      <td>NaN</td>\n",
       "      <td>NaN</td>\n",
       "      <td>NaN</td>\n",
       "      <td>3026.0</td>\n",
       "      <td>5831.0</td>\n",
       "      <td>311.0</td>\n",
       "      <td>6142.0</td>\n",
       "      <td>5987.0</td>\n",
       "      <td>21462.49</td>\n",
       "      <td>332085.52</td>\n",
       "    </tr>\n",
       "    <tr>\n",
       "      <th>10915493</th>\n",
       "      <td>2019</td>\n",
       "      <td>2</td>\n",
       "      <td>6</td>\n",
       "      <td>30</td>\n",
       "      <td>7</td>\n",
       "      <td>2019-06-30</td>\n",
       "      <td>YX</td>\n",
       "      <td>4506</td>\n",
       "      <td>6671</td>\n",
       "      <td>XNA</td>\n",
       "      <td>...</td>\n",
       "      <td>NaN</td>\n",
       "      <td>NaN</td>\n",
       "      <td>NaN</td>\n",
       "      <td>3026.0</td>\n",
       "      <td>5831.0</td>\n",
       "      <td>311.0</td>\n",
       "      <td>6142.0</td>\n",
       "      <td>5987.0</td>\n",
       "      <td>21462.49</td>\n",
       "      <td>332085.52</td>\n",
       "    </tr>\n",
       "    <tr>\n",
       "      <th>10915494</th>\n",
       "      <td>2019</td>\n",
       "      <td>2</td>\n",
       "      <td>6</td>\n",
       "      <td>30</td>\n",
       "      <td>7</td>\n",
       "      <td>2019-06-30</td>\n",
       "      <td>YX</td>\n",
       "      <td>4478</td>\n",
       "      <td>6671</td>\n",
       "      <td>XNA</td>\n",
       "      <td>...</td>\n",
       "      <td>0.0</td>\n",
       "      <td>0.0</td>\n",
       "      <td>0.0</td>\n",
       "      <td>3026.0</td>\n",
       "      <td>5831.0</td>\n",
       "      <td>311.0</td>\n",
       "      <td>6142.0</td>\n",
       "      <td>5987.0</td>\n",
       "      <td>21462.49</td>\n",
       "      <td>332085.52</td>\n",
       "    </tr>\n",
       "  </tbody>\n",
       "</table>\n",
       "<p>5 rows × 50 columns</p>\n",
       "</div>"
      ],
      "text/plain": [
       "          YEAR  QUARTER  MONTH  DAY_OF_MONTH  DAY_OF_WEEK     FL_DATE CARRIER  \\\n",
       "10915490  2019        2      6            27            4  2019-06-27      YX   \n",
       "10915491  2019        2      6            28            5  2019-06-28      YX   \n",
       "10915492  2019        2      6            28            5  2019-06-28      YX   \n",
       "10915493  2019        2      6            30            7  2019-06-30      YX   \n",
       "10915494  2019        2      6            30            7  2019-06-30      YX   \n",
       "\n",
       "          FL_NUM  Route ORIGIN  ... NAS_DELAY SECURITY_DELAY  \\\n",
       "10915490    4478   6671    XNA  ...       NaN            NaN   \n",
       "10915491    4506   6671    XNA  ...       NaN            NaN   \n",
       "10915492    4478   6671    XNA  ...       NaN            NaN   \n",
       "10915493    4506   6671    XNA  ...       NaN            NaN   \n",
       "10915494    4478   6671    XNA  ...       0.0            0.0   \n",
       "\n",
       "         LATE_AIRCRAFT_DELAY  PASSENGERS  EMPFULL  EMPPART  EMPTOTAL  EMPFTE  \\\n",
       "10915490                 NaN      3026.0   5831.0    311.0    6142.0  5987.0   \n",
       "10915491                 NaN      3026.0   5831.0    311.0    6142.0  5987.0   \n",
       "10915492                 NaN      3026.0   5831.0    311.0    6142.0  5987.0   \n",
       "10915493                 NaN      3026.0   5831.0    311.0    6142.0  5987.0   \n",
       "10915494                 0.0      3026.0   5831.0    311.0    6142.0  5987.0   \n",
       "\n",
       "          NET_INCOME OP_REVENUES  \n",
       "10915490    21462.49   332085.52  \n",
       "10915491    21462.49   332085.52  \n",
       "10915492    21462.49   332085.52  \n",
       "10915493    21462.49   332085.52  \n",
       "10915494    21462.49   332085.52  \n",
       "\n",
       "[5 rows x 50 columns]"
      ]
     },
     "execution_count": 30,
     "metadata": {},
     "output_type": "execute_result"
    }
   ],
   "source": [
    "flight_delays.tail()"
   ]
  },
  {
   "cell_type": "code",
   "execution_count": 32,
   "metadata": {},
   "outputs": [
    {
     "data": {
      "text/plain": [
       "Index(['YEAR', 'QUARTER', 'MONTH', 'DAY_OF_MONTH', 'DAY_OF_WEEK', 'FL_DATE',\n",
       "       'CARRIER', 'FL_NUM', 'Route', 'ORIGIN', 'DEST', 'DEST_CITY',\n",
       "       'DEST_STATE', 'CRS_DEP_TIME', 'DEP_TIME', 'DEP_DELAY', 'DEP_DELAY_NEW',\n",
       "       'DEP_DEL15', 'DEP_DELAY_GROUP', 'DEP_TIME_BLK', 'TAXI_OUT',\n",
       "       'WHEELS_OFF', 'WHEELS_ON', 'TAXI_IN', 'CRS_ARR_TIME', 'ARR_TIME',\n",
       "       'ARR_DELAY', 'ARR_DELAY_NEW', 'ARR_DEL15', 'ARR_DELAY_GROUP',\n",
       "       'ARR_TIME_BLK', 'CANCELED', 'CANCELLATION_CODE', 'DIVERTED',\n",
       "       'CRS_ELAPSED_TIME', 'ACTUAL_ELAPSED_TIME', 'AIR_TIME', 'DISTANCE',\n",
       "       'CARRIER_DELAY', 'WEATHER_DELAY', 'NAS_DELAY', 'SECURITY_DELAY',\n",
       "       'LATE_AIRCRAFT_DELAY', 'PASSENGERS', 'EMPFULL', 'EMPPART', 'EMPTOTAL',\n",
       "       'EMPFTE', 'NET_INCOME', 'OP_REVENUES'],\n",
       "      dtype='object')"
      ]
     },
     "execution_count": 32,
     "metadata": {},
     "output_type": "execute_result"
    }
   ],
   "source": [
    "flight_delays.columns"
   ]
  },
  {
   "cell_type": "markdown",
   "metadata": {},
   "source": [
    "Just some observations: \n",
    "avoidable delays- Carrier, Late Aircraft, Departure, Arrival\n",
    "unavoidable delys - weather, security, NAS (National Airspace System clearance to fly)"
   ]
  },
  {
   "cell_type": "code",
   "execution_count": 49,
   "metadata": {},
   "outputs": [
    {
     "data": {
      "text/plain": [
       "0           0\n",
       "1           0\n",
       "2           0\n",
       "3           0\n",
       "4           0\n",
       "5           0\n",
       "6           0\n",
       "7           0\n",
       "8           0\n",
       "9           0\n",
       "10          0\n",
       "11          0\n",
       "12          0\n",
       "13          0\n",
       "14          0\n",
       "15          0\n",
       "16          0\n",
       "17          0\n",
       "18          0\n",
       "19          0\n",
       "20          0\n",
       "21          0\n",
       "22          0\n",
       "23          0\n",
       "24          0\n",
       "25          0\n",
       "26          0\n",
       "27          0\n",
       "28          0\n",
       "29          0\n",
       "           ..\n",
       "10915465    0\n",
       "10915466    0\n",
       "10915467    0\n",
       "10915468    0\n",
       "10915469    0\n",
       "10915470    0\n",
       "10915471    0\n",
       "10915472    0\n",
       "10915473    0\n",
       "10915474    0\n",
       "10915475    0\n",
       "10915476    0\n",
       "10915477    0\n",
       "10915478    1\n",
       "10915479    0\n",
       "10915480    0\n",
       "10915481    0\n",
       "10915482    0\n",
       "10915483    0\n",
       "10915484    0\n",
       "10915485    0\n",
       "10915486    0\n",
       "10915487    0\n",
       "10915488    0\n",
       "10915489    0\n",
       "10915490    0\n",
       "10915491    0\n",
       "10915492    0\n",
       "10915493    0\n",
       "10915494    0\n",
       "Name: CANCELED, Length: 10915495, dtype: int64"
      ]
     },
     "execution_count": 49,
     "metadata": {},
     "output_type": "execute_result"
    }
   ],
   "source": [
    "flight_delays['CANCELED']"
   ]
  },
  {
   "cell_type": "code",
   "execution_count": 53,
   "metadata": {},
   "outputs": [
    {
     "name": "stdout",
     "output_type": "stream",
     "text": [
      "Total number of flights canceled from 2018-June 30, 2019\n"
     ]
    },
    {
     "data": {
      "text/plain": [
       "202085"
      ]
     },
     "execution_count": 53,
     "metadata": {},
     "output_type": "execute_result"
    }
   ],
   "source": [
    "print(\"Total number of flights canceled from 2018-June 30, 2019:\")\n",
    "flight_delays.loc[flight_delays.CANCELED == 1, \"CANCELED\"].count()"
   ]
  },
  {
   "cell_type": "code",
   "execution_count": null,
   "metadata": {},
   "outputs": [],
   "source": []
  }
 ],
 "metadata": {
  "kernelspec": {
   "display_name": "Python 3",
   "language": "python",
   "name": "python3"
  },
  "language_info": {
   "codemirror_mode": {
    "name": "ipython",
    "version": 3
   },
   "file_extension": ".py",
   "mimetype": "text/x-python",
   "name": "python",
   "nbconvert_exporter": "python",
   "pygments_lexer": "ipython3",
   "version": "3.7.3"
  }
 },
 "nbformat": 4,
 "nbformat_minor": 2
}
